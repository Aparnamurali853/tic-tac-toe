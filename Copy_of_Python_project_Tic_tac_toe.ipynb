{
  "nbformat": 4,
  "nbformat_minor": 0,
  "metadata": {
    "colab": {
      "provenance": [],
      "authorship_tag": "ABX9TyPQ61lIJgUKmZR3IOntRD1x",
      "include_colab_link": true
    },
    "kernelspec": {
      "name": "python3",
      "display_name": "Python 3"
    },
    "language_info": {
      "name": "python"
    }
  },
  "cells": [
    {
      "cell_type": "markdown",
      "metadata": {
        "id": "view-in-github",
        "colab_type": "text"
      },
      "source": [
        "<a href=\"https://colab.research.google.com/github/Aparnamurali853/tic-tac-toe/blob/main/Copy_of_Python_project_Tic_tac_toe.ipynb\" target=\"_parent\"><img src=\"https://colab.research.google.com/assets/colab-badge.svg\" alt=\"Open In Colab\"/></a>"
      ]
    },
    {
      "cell_type": "code",
      "execution_count": null,
      "metadata": {
        "colab": {
          "base_uri": "https://localhost:8080/"
        },
        "id": "YyJjWJlIFDUA",
        "outputId": "0c86735d-c4c5-4069-af7e-b5c1d8cfe064"
      },
      "outputs": [
        {
          "output_type": "stream",
          "name": "stdout",
          "text": [
            "Welcome to Tic Tac Toe!\n",
            "  |   |  \n",
            "-----\n",
            "  |   |  \n",
            "-----\n",
            "  |   |  \n",
            "-----\n",
            "Player X's turn\n",
            "Enter row (0-2): 0\n",
            "Enter column (0-2): 0\n",
            "X |   |  \n",
            "-----\n",
            "  |   |  \n",
            "-----\n",
            "  |   |  \n",
            "-----\n",
            "Player O's turn\n",
            "Enter row (0-2): 1\n",
            "Enter column (0-2): 1\n",
            "X |   |  \n",
            "-----\n",
            "  | O |  \n",
            "-----\n",
            "  |   |  \n",
            "-----\n",
            "Player X's turn\n",
            "Enter row (0-2): 0\n",
            "Enter column (0-2): 1\n",
            "X | X |  \n",
            "-----\n",
            "  | O |  \n",
            "-----\n",
            "  |   |  \n",
            "-----\n",
            "Player O's turn\n",
            "Enter row (0-2): 1\n",
            "Enter column (0-2): 0\n",
            "X | X |  \n",
            "-----\n",
            "O | O |  \n",
            "-----\n",
            "  |   |  \n",
            "-----\n",
            "Player X's turn\n",
            "Enter row (0-2): 0\n",
            "Enter column (0-2): 2\n",
            "X | X | X\n",
            "-----\n",
            "O | O |  \n",
            "-----\n",
            "  |   |  \n",
            "-----\n",
            "Player X wins!\n"
          ]
        }
      ],
      "source": [
        "def print_board(board):\n",
        "    for row in board:\n",
        "        print(\" | \".join(row))\n",
        "        print(\"-\" * 5)\n",
        "\n",
        "def check_winner(board, player):\n",
        "    # Check rows, columns, and diagonals\n",
        "    for row in board:\n",
        "        if all(cell == player for cell in row):\n",
        "            return True\n",
        "    for col in range(3):\n",
        "        if all(board[row][col] == player for row in range(3)):\n",
        "            return True\n",
        "    if all(board[i][i] == player for i in range(3)) or all(board[i][2 - i] == player for i in range(3)):\n",
        "        return True\n",
        "    return False\n",
        "\n",
        "def is_draw(board):\n",
        "    return all(cell != \" \" for row in board for cell in row)\n",
        "\n",
        "def tic_tac_toe():\n",
        "    board = [[\" \" for _ in range(3)] for _ in range(3)]\n",
        "    players = [\"X\", \"O\"]\n",
        "    current_player = 0\n",
        "\n",
        "    print(\"Welcome to Tic Tac Toe!\")\n",
        "    print_board(board)\n",
        "\n",
        "    while True:\n",
        "        print(f\"Player {players[current_player]}'s turn\")\n",
        "        try:\n",
        "            row = int(input(\"Enter row (0-2): \"))\n",
        "            col = int(input(\"Enter column (0-2): \"))\n",
        "            if row < 0 or row > 2 or col < 0 or col > 2 or board[row][col] != \" \":\n",
        "                print(\"Invalid move. Try again.\")\n",
        "                continue\n",
        "        except ValueError:\n",
        "            print(\"Please enter valid numbers.\")\n",
        "            continue\n",
        "\n",
        "        board[row][col] = players[current_player]\n",
        "        print_board(board)\n",
        "\n",
        "        if check_winner(board, players[current_player]):\n",
        "            print(f\"Player {players[current_player]} wins!\")\n",
        "            break\n",
        "        if is_draw(board):\n",
        "            print(\"It's a draw!\")\n",
        "            break\n",
        "\n",
        "        current_player = 1 - current_player\n",
        "\n",
        "if __name__ == \"__main__\":\n",
        "    tic_tac_toe()"
      ]
    },
    {
      "cell_type": "code",
      "source": [],
      "metadata": {
        "id": "DySEoIr9FEnE"
      },
      "execution_count": null,
      "outputs": []
    }
  ]
}